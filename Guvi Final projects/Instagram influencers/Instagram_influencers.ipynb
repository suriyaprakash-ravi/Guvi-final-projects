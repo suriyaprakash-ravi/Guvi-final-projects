{
  "nbformat": 4,
  "nbformat_minor": 0,
  "metadata": {
    "colab": {
      "provenance": []
    },
    "kernelspec": {
      "name": "python3",
      "display_name": "Python 3"
    },
    "language_info": {
      "name": "python"
    }
  },
  "cells": [
    {
      "cell_type": "markdown",
      "source": [
        "#Problem Statement of Instagram Influencers\n",
        "## 1-Finding the corelated columns\n",
        "## 2-Frequency distribution of the 3 major columns\n",
        "## 3-Country which has the highest number of influencers\n",
        "## 4-Top 10 influencers in the given data set\n",
        "## 5-Finding the relationship between the features"
      ],
      "metadata": {
        "id": "GEBynsItcKyh"
      }
    },
    {
      "cell_type": "markdown",
      "source": [
        "##Importing the required modules"
      ],
      "metadata": {
        "id": "1tFvJh96diNB"
      }
    },
    {
      "cell_type": "code",
      "execution_count": 1,
      "metadata": {
        "id": "K32drZlYbj4w"
      },
      "outputs": [],
      "source": [
        "import seaborn as sns\n",
        "import matplotlib.pyplot as plt\n",
        "import pandas as pd"
      ]
    },
    {
      "cell_type": "code",
      "source": [
        "#Loading the dataset\n",
        "df=pd.read_csv('/content/drive/MyDrive/Guvi Projects/Influencer.csv')"
      ],
      "metadata": {
        "id": "Z-QDItZUcKMI"
      },
      "execution_count": 2,
      "outputs": []
    },
    {
      "cell_type": "code",
      "source": [
        "df"
      ],
      "metadata": {
        "colab": {
          "base_uri": "https://localhost:8080/",
          "height": 424
        },
        "id": "4p2HSZcecKGi",
        "outputId": "41485c14-de3b-4a59-e341-bec46cd3f716"
      },
      "execution_count": 3,
      "outputs": [
        {
          "output_type": "execute_result",
          "data": {
            "text/plain": [
              "     Rank           Channel Info  Influence Score Followers Avg. Likes Posts  \\\n",
              "0       1            \\ncristiano               92    485.2m       8.7m  3.4k   \n",
              "1       2            kyliejenner               91    370.7m       8.2m  7.0k   \n",
              "2       3             \\nleomessi               90    363.9m       6.7m   915   \n",
              "3       4          \\nselenagomez               93    348.8m       6.1m  1.9k   \n",
              "4       5              \\ntherock               91    339.4m       1.8m  6.8k   \n",
              "..    ...                    ...              ...       ...        ...   ...   \n",
              "195   196  \\nkhabib_nurmagomedov               63     33.6m     680.6k  4.6k   \n",
              "196   197         \\ndanbilzerian               84     33.6m       2.2m  1.4k   \n",
              "197   198            \\nraisa6690               80     33.6m     227.8k  4.2k   \n",
              "198   199          \\nluansantana               79     33.5m     193.3k   865   \n",
              "199   200           \\nnancyajram               81     33.4m     382.5k  3.8k   \n",
              "\n",
              "     60-Day Eng Rate New Post Avg. Likes Total Likes Country Or Region  \n",
              "0              0.013                6.3m       29.1b             Spain  \n",
              "1              0.014                5.0m       57.4b     United States  \n",
              "2              0.010                3.5m        6.1b               NaN  \n",
              "3              0.005                1.7m       11.4b     United States  \n",
              "4              0.003              932.0k       12.6b     United States  \n",
              "..               ...                 ...         ...               ...  \n",
              "195            0.009              305.7k        3.1b            Russia  \n",
              "196            0.064                2.1m        3.0b            Canada  \n",
              "197            0.003              103.2k      955.9m         Indonesia  \n",
              "198            0.003               82.6k      167.2m            Brazil  \n",
              "199            0.004              128.2k        1.5b            France  \n",
              "\n",
              "[200 rows x 10 columns]"
            ],
            "text/html": [
              "\n",
              "  <div id=\"df-6b795d28-8cb5-407b-b262-da04cfc12c00\">\n",
              "    <div class=\"colab-df-container\">\n",
              "      <div>\n",
              "<style scoped>\n",
              "    .dataframe tbody tr th:only-of-type {\n",
              "        vertical-align: middle;\n",
              "    }\n",
              "\n",
              "    .dataframe tbody tr th {\n",
              "        vertical-align: top;\n",
              "    }\n",
              "\n",
              "    .dataframe thead th {\n",
              "        text-align: right;\n",
              "    }\n",
              "</style>\n",
              "<table border=\"1\" class=\"dataframe\">\n",
              "  <thead>\n",
              "    <tr style=\"text-align: right;\">\n",
              "      <th></th>\n",
              "      <th>Rank</th>\n",
              "      <th>Channel Info</th>\n",
              "      <th>Influence Score</th>\n",
              "      <th>Followers</th>\n",
              "      <th>Avg. Likes</th>\n",
              "      <th>Posts</th>\n",
              "      <th>60-Day Eng Rate</th>\n",
              "      <th>New Post Avg. Likes</th>\n",
              "      <th>Total Likes</th>\n",
              "      <th>Country Or Region</th>\n",
              "    </tr>\n",
              "  </thead>\n",
              "  <tbody>\n",
              "    <tr>\n",
              "      <th>0</th>\n",
              "      <td>1</td>\n",
              "      <td>\\ncristiano</td>\n",
              "      <td>92</td>\n",
              "      <td>485.2m</td>\n",
              "      <td>8.7m</td>\n",
              "      <td>3.4k</td>\n",
              "      <td>0.013</td>\n",
              "      <td>6.3m</td>\n",
              "      <td>29.1b</td>\n",
              "      <td>Spain</td>\n",
              "    </tr>\n",
              "    <tr>\n",
              "      <th>1</th>\n",
              "      <td>2</td>\n",
              "      <td>kyliejenner</td>\n",
              "      <td>91</td>\n",
              "      <td>370.7m</td>\n",
              "      <td>8.2m</td>\n",
              "      <td>7.0k</td>\n",
              "      <td>0.014</td>\n",
              "      <td>5.0m</td>\n",
              "      <td>57.4b</td>\n",
              "      <td>United States</td>\n",
              "    </tr>\n",
              "    <tr>\n",
              "      <th>2</th>\n",
              "      <td>3</td>\n",
              "      <td>\\nleomessi</td>\n",
              "      <td>90</td>\n",
              "      <td>363.9m</td>\n",
              "      <td>6.7m</td>\n",
              "      <td>915</td>\n",
              "      <td>0.010</td>\n",
              "      <td>3.5m</td>\n",
              "      <td>6.1b</td>\n",
              "      <td>NaN</td>\n",
              "    </tr>\n",
              "    <tr>\n",
              "      <th>3</th>\n",
              "      <td>4</td>\n",
              "      <td>\\nselenagomez</td>\n",
              "      <td>93</td>\n",
              "      <td>348.8m</td>\n",
              "      <td>6.1m</td>\n",
              "      <td>1.9k</td>\n",
              "      <td>0.005</td>\n",
              "      <td>1.7m</td>\n",
              "      <td>11.4b</td>\n",
              "      <td>United States</td>\n",
              "    </tr>\n",
              "    <tr>\n",
              "      <th>4</th>\n",
              "      <td>5</td>\n",
              "      <td>\\ntherock</td>\n",
              "      <td>91</td>\n",
              "      <td>339.4m</td>\n",
              "      <td>1.8m</td>\n",
              "      <td>6.8k</td>\n",
              "      <td>0.003</td>\n",
              "      <td>932.0k</td>\n",
              "      <td>12.6b</td>\n",
              "      <td>United States</td>\n",
              "    </tr>\n",
              "    <tr>\n",
              "      <th>...</th>\n",
              "      <td>...</td>\n",
              "      <td>...</td>\n",
              "      <td>...</td>\n",
              "      <td>...</td>\n",
              "      <td>...</td>\n",
              "      <td>...</td>\n",
              "      <td>...</td>\n",
              "      <td>...</td>\n",
              "      <td>...</td>\n",
              "      <td>...</td>\n",
              "    </tr>\n",
              "    <tr>\n",
              "      <th>195</th>\n",
              "      <td>196</td>\n",
              "      <td>\\nkhabib_nurmagomedov</td>\n",
              "      <td>63</td>\n",
              "      <td>33.6m</td>\n",
              "      <td>680.6k</td>\n",
              "      <td>4.6k</td>\n",
              "      <td>0.009</td>\n",
              "      <td>305.7k</td>\n",
              "      <td>3.1b</td>\n",
              "      <td>Russia</td>\n",
              "    </tr>\n",
              "    <tr>\n",
              "      <th>196</th>\n",
              "      <td>197</td>\n",
              "      <td>\\ndanbilzerian</td>\n",
              "      <td>84</td>\n",
              "      <td>33.6m</td>\n",
              "      <td>2.2m</td>\n",
              "      <td>1.4k</td>\n",
              "      <td>0.064</td>\n",
              "      <td>2.1m</td>\n",
              "      <td>3.0b</td>\n",
              "      <td>Canada</td>\n",
              "    </tr>\n",
              "    <tr>\n",
              "      <th>197</th>\n",
              "      <td>198</td>\n",
              "      <td>\\nraisa6690</td>\n",
              "      <td>80</td>\n",
              "      <td>33.6m</td>\n",
              "      <td>227.8k</td>\n",
              "      <td>4.2k</td>\n",
              "      <td>0.003</td>\n",
              "      <td>103.2k</td>\n",
              "      <td>955.9m</td>\n",
              "      <td>Indonesia</td>\n",
              "    </tr>\n",
              "    <tr>\n",
              "      <th>198</th>\n",
              "      <td>199</td>\n",
              "      <td>\\nluansantana</td>\n",
              "      <td>79</td>\n",
              "      <td>33.5m</td>\n",
              "      <td>193.3k</td>\n",
              "      <td>865</td>\n",
              "      <td>0.003</td>\n",
              "      <td>82.6k</td>\n",
              "      <td>167.2m</td>\n",
              "      <td>Brazil</td>\n",
              "    </tr>\n",
              "    <tr>\n",
              "      <th>199</th>\n",
              "      <td>200</td>\n",
              "      <td>\\nnancyajram</td>\n",
              "      <td>81</td>\n",
              "      <td>33.4m</td>\n",
              "      <td>382.5k</td>\n",
              "      <td>3.8k</td>\n",
              "      <td>0.004</td>\n",
              "      <td>128.2k</td>\n",
              "      <td>1.5b</td>\n",
              "      <td>France</td>\n",
              "    </tr>\n",
              "  </tbody>\n",
              "</table>\n",
              "<p>200 rows × 10 columns</p>\n",
              "</div>\n",
              "      <button class=\"colab-df-convert\" onclick=\"convertToInteractive('df-6b795d28-8cb5-407b-b262-da04cfc12c00')\"\n",
              "              title=\"Convert this dataframe to an interactive table.\"\n",
              "              style=\"display:none;\">\n",
              "        \n",
              "  <svg xmlns=\"http://www.w3.org/2000/svg\" height=\"24px\"viewBox=\"0 0 24 24\"\n",
              "       width=\"24px\">\n",
              "    <path d=\"M0 0h24v24H0V0z\" fill=\"none\"/>\n",
              "    <path d=\"M18.56 5.44l.94 2.06.94-2.06 2.06-.94-2.06-.94-.94-2.06-.94 2.06-2.06.94zm-11 1L8.5 8.5l.94-2.06 2.06-.94-2.06-.94L8.5 2.5l-.94 2.06-2.06.94zm10 10l.94 2.06.94-2.06 2.06-.94-2.06-.94-.94-2.06-.94 2.06-2.06.94z\"/><path d=\"M17.41 7.96l-1.37-1.37c-.4-.4-.92-.59-1.43-.59-.52 0-1.04.2-1.43.59L10.3 9.45l-7.72 7.72c-.78.78-.78 2.05 0 2.83L4 21.41c.39.39.9.59 1.41.59.51 0 1.02-.2 1.41-.59l7.78-7.78 2.81-2.81c.8-.78.8-2.07 0-2.86zM5.41 20L4 18.59l7.72-7.72 1.47 1.35L5.41 20z\"/>\n",
              "  </svg>\n",
              "      </button>\n",
              "      \n",
              "  <style>\n",
              "    .colab-df-container {\n",
              "      display:flex;\n",
              "      flex-wrap:wrap;\n",
              "      gap: 12px;\n",
              "    }\n",
              "\n",
              "    .colab-df-convert {\n",
              "      background-color: #E8F0FE;\n",
              "      border: none;\n",
              "      border-radius: 50%;\n",
              "      cursor: pointer;\n",
              "      display: none;\n",
              "      fill: #1967D2;\n",
              "      height: 32px;\n",
              "      padding: 0 0 0 0;\n",
              "      width: 32px;\n",
              "    }\n",
              "\n",
              "    .colab-df-convert:hover {\n",
              "      background-color: #E2EBFA;\n",
              "      box-shadow: 0px 1px 2px rgba(60, 64, 67, 0.3), 0px 1px 3px 1px rgba(60, 64, 67, 0.15);\n",
              "      fill: #174EA6;\n",
              "    }\n",
              "\n",
              "    [theme=dark] .colab-df-convert {\n",
              "      background-color: #3B4455;\n",
              "      fill: #D2E3FC;\n",
              "    }\n",
              "\n",
              "    [theme=dark] .colab-df-convert:hover {\n",
              "      background-color: #434B5C;\n",
              "      box-shadow: 0px 1px 3px 1px rgba(0, 0, 0, 0.15);\n",
              "      filter: drop-shadow(0px 1px 2px rgba(0, 0, 0, 0.3));\n",
              "      fill: #FFFFFF;\n",
              "    }\n",
              "  </style>\n",
              "\n",
              "      <script>\n",
              "        const buttonEl =\n",
              "          document.querySelector('#df-6b795d28-8cb5-407b-b262-da04cfc12c00 button.colab-df-convert');\n",
              "        buttonEl.style.display =\n",
              "          google.colab.kernel.accessAllowed ? 'block' : 'none';\n",
              "\n",
              "        async function convertToInteractive(key) {\n",
              "          const element = document.querySelector('#df-6b795d28-8cb5-407b-b262-da04cfc12c00');\n",
              "          const dataTable =\n",
              "            await google.colab.kernel.invokeFunction('convertToInteractive',\n",
              "                                                     [key], {});\n",
              "          if (!dataTable) return;\n",
              "\n",
              "          const docLinkHtml = 'Like what you see? Visit the ' +\n",
              "            '<a target=\"_blank\" href=https://colab.research.google.com/notebooks/data_table.ipynb>data table notebook</a>'\n",
              "            + ' to learn more about interactive tables.';\n",
              "          element.innerHTML = '';\n",
              "          dataTable['output_type'] = 'display_data';\n",
              "          await google.colab.output.renderOutput(dataTable, element);\n",
              "          const docLink = document.createElement('div');\n",
              "          docLink.innerHTML = docLinkHtml;\n",
              "          element.appendChild(docLink);\n",
              "        }\n",
              "      </script>\n",
              "    </div>\n",
              "  </div>\n",
              "  "
            ]
          },
          "metadata": {},
          "execution_count": 3
        }
      ]
    },
    {
      "cell_type": "code",
      "source": [
        "df.info()"
      ],
      "metadata": {
        "colab": {
          "base_uri": "https://localhost:8080/"
        },
        "id": "O4XgcCbVcJ_t",
        "outputId": "dd7d8f10-f393-4d09-db0d-bcdea44f4090"
      },
      "execution_count": 4,
      "outputs": [
        {
          "output_type": "stream",
          "name": "stdout",
          "text": [
            "<class 'pandas.core.frame.DataFrame'>\n",
            "RangeIndex: 200 entries, 0 to 199\n",
            "Data columns (total 10 columns):\n",
            " #   Column               Non-Null Count  Dtype  \n",
            "---  ------               --------------  -----  \n",
            " 0   Rank                 200 non-null    int64  \n",
            " 1   Channel Info         200 non-null    object \n",
            " 2   Influence Score      200 non-null    int64  \n",
            " 3   Followers            200 non-null    object \n",
            " 4   Avg. Likes           200 non-null    object \n",
            " 5   Posts                200 non-null    object \n",
            " 6   60-Day Eng Rate      200 non-null    float64\n",
            " 7   New Post Avg. Likes  200 non-null    object \n",
            " 8   Total Likes          200 non-null    object \n",
            " 9   Country Or Region    137 non-null    object \n",
            "dtypes: float64(1), int64(2), object(7)\n",
            "memory usage: 15.8+ KB\n"
          ]
        }
      ]
    },
    {
      "cell_type": "code",
      "source": [
        "# checking null values\n",
        "df.isnull().sum()"
      ],
      "metadata": {
        "colab": {
          "base_uri": "https://localhost:8080/"
        },
        "id": "rXEIpbqicJ4e",
        "outputId": "eda15933-a4df-4be8-a7ff-07ebb483da5a"
      },
      "execution_count": 5,
      "outputs": [
        {
          "output_type": "execute_result",
          "data": {
            "text/plain": [
              "Rank                    0\n",
              "Channel Info            0\n",
              "Influence Score         0\n",
              "Followers               0\n",
              "Avg. Likes              0\n",
              "Posts                   0\n",
              "60-Day Eng Rate         0\n",
              "New Post Avg. Likes     0\n",
              "Total Likes             0\n",
              "Country Or Region      63\n",
              "dtype: int64"
            ]
          },
          "metadata": {},
          "execution_count": 5
        }
      ]
    },
    {
      "cell_type": "code",
      "source": [
        "df['Country Or Region'].value_counts()"
      ],
      "metadata": {
        "colab": {
          "base_uri": "https://localhost:8080/"
        },
        "id": "THB6X3f_cJx6",
        "outputId": "6e3f5272-5a30-4e0c-8fb0-a2dd5fc49f60"
      },
      "execution_count": 6,
      "outputs": [
        {
          "output_type": "execute_result",
          "data": {
            "text/plain": [
              "United States             65\n",
              "Brazil                    13\n",
              "India                     12\n",
              "Indonesia                  7\n",
              "France                     6\n",
              "Spain                      5\n",
              "United Kingdom             4\n",
              "Colombia                   3\n",
              "Canada                     3\n",
              "Mexico                     2\n",
              "Turkey                     2\n",
              "Netherlands                2\n",
              "Switzerland                1\n",
              "Germany                    1\n",
              "Czech Republic             1\n",
              "British Virgin Islands     1\n",
              "Sweden                     1\n",
              "Australia                  1\n",
              "Anguilla                   1\n",
              "CÃ´te d'Ivoire             1\n",
              "Puerto Rico                1\n",
              "United Arab Emirates       1\n",
              "Italy                      1\n",
              "Uruguay                    1\n",
              "Russia                     1\n",
              "Name: Country Or Region, dtype: int64"
            ]
          },
          "metadata": {},
          "execution_count": 6
        }
      ]
    },
    {
      "cell_type": "code",
      "source": [
        "# using mode imputation to filling the null values\n",
        "df['Country Or Region'].mode()\n"
      ],
      "metadata": {
        "colab": {
          "base_uri": "https://localhost:8080/"
        },
        "id": "MkwNrJXacJqZ",
        "outputId": "a5af79cf-d95c-49c5-efab-a836e5f29e64"
      },
      "execution_count": 7,
      "outputs": [
        {
          "output_type": "execute_result",
          "data": {
            "text/plain": [
              "0    United States\n",
              "Name: Country Or Region, dtype: object"
            ]
          },
          "metadata": {},
          "execution_count": 7
        }
      ]
    },
    {
      "cell_type": "code",
      "source": [
        "df['Country Or Region']= (df['Country Or Region'].fillna('United States'))\n"
      ],
      "metadata": {
        "id": "iVCI-NZScJjS"
      },
      "execution_count": 8,
      "outputs": []
    },
    {
      "cell_type": "code",
      "source": [
        "# again checking null values\n",
        "df.isnull().sum()"
      ],
      "metadata": {
        "colab": {
          "base_uri": "https://localhost:8080/"
        },
        "id": "tPqkqhxbcJc8",
        "outputId": "222535aa-f066-4172-b343-bc741fde018b"
      },
      "execution_count": 10,
      "outputs": [
        {
          "output_type": "execute_result",
          "data": {
            "text/plain": [
              "Rank                   0\n",
              "Channel Info           0\n",
              "Influence Score        0\n",
              "Followers              0\n",
              "Avg. Likes             0\n",
              "Posts                  0\n",
              "60-Day Eng Rate        0\n",
              "New Post Avg. Likes    0\n",
              "Total Likes            0\n",
              "Country Or Region      0\n",
              "dtype: int64"
            ]
          },
          "metadata": {},
          "execution_count": 10
        }
      ]
    },
    {
      "cell_type": "code",
      "source": [
        "# Convert string K, M & B to number\n",
        "\n",
        "df['Followers'] = df['Followers'].replace({\"k\":\"*1e3\", \"m\":\"*1e6\"}, regex=True).map(df.eval)\n",
        "df['Avg. Likes'] = df['Avg. Likes'].replace({\"k\":\"*1e3\", \"m\":\"*1e6\"}, regex=True).map(df.eval)\n",
        "df['Posts'] = df['Posts'].replace({\"k\":\"*1e3\", \"m\":\"*1e6\"}, regex=True).map(df.eval)\n",
        "df['New Post Avg. Likes'] = df['New Post Avg. Likes'].replace({\"k\":\"*1e3\", \"m\":\"*1e6\"}, regex=True).map(df.eval)\n",
        "df['Total Likes'] = df['Total Likes'].replace({\"m\":\"*1e6\", \"b\":\"*1e9\"}, regex=True).map(df.eval)"
      ],
      "metadata": {
        "id": "32OwJF8JcJXE"
      },
      "execution_count": 11,
      "outputs": []
    },
    {
      "cell_type": "code",
      "source": [
        "df"
      ],
      "metadata": {
        "colab": {
          "base_uri": "https://localhost:8080/",
          "height": 424
        },
        "id": "u8tWFEC1cJQR",
        "outputId": "26d77a1c-c93e-43f0-9aa4-a9ab2b098cf9"
      },
      "execution_count": 12,
      "outputs": [
        {
          "output_type": "execute_result",
          "data": {
            "text/plain": [
              "     Rank           Channel Info  Influence Score    Followers  Avg. Likes  \\\n",
              "0       1            \\ncristiano               92  485200000.0   8700000.0   \n",
              "1       2            kyliejenner               91  370700000.0   8200000.0   \n",
              "2       3             \\nleomessi               90  363900000.0   6700000.0   \n",
              "3       4          \\nselenagomez               93  348800000.0   6100000.0   \n",
              "4       5              \\ntherock               91  339400000.0   1800000.0   \n",
              "..    ...                    ...              ...          ...         ...   \n",
              "195   196  \\nkhabib_nurmagomedov               63   33600000.0    680600.0   \n",
              "196   197         \\ndanbilzerian               84   33600000.0   2200000.0   \n",
              "197   198            \\nraisa6690               80   33600000.0    227800.0   \n",
              "198   199          \\nluansantana               79   33500000.0    193300.0   \n",
              "199   200           \\nnancyajram               81   33400000.0    382500.0   \n",
              "\n",
              "      Posts  60-Day Eng Rate  New Post Avg. Likes   Total Likes  \\\n",
              "0    3400.0            0.013            6300000.0  2.910000e+10   \n",
              "1    7000.0            0.014            5000000.0  5.740000e+10   \n",
              "2     915.0            0.010            3500000.0  6.100000e+09   \n",
              "3    1900.0            0.005            1700000.0  1.140000e+10   \n",
              "4    6800.0            0.003             932000.0  1.260000e+10   \n",
              "..      ...              ...                  ...           ...   \n",
              "195  4600.0            0.009             305700.0  3.100000e+09   \n",
              "196  1400.0            0.064            2100000.0  3.000000e+09   \n",
              "197  4200.0            0.003             103200.0  9.559000e+08   \n",
              "198   865.0            0.003              82600.0  1.672000e+08   \n",
              "199  3800.0            0.004             128200.0  1.500000e+09   \n",
              "\n",
              "    Country Or Region  \n",
              "0               Spain  \n",
              "1       United States  \n",
              "2       United States  \n",
              "3       United States  \n",
              "4       United States  \n",
              "..                ...  \n",
              "195            Russia  \n",
              "196            Canada  \n",
              "197         Indonesia  \n",
              "198            Brazil  \n",
              "199            France  \n",
              "\n",
              "[200 rows x 10 columns]"
            ],
            "text/html": [
              "\n",
              "  <div id=\"df-58a60199-cf5f-4afb-b72e-8c60cceca480\">\n",
              "    <div class=\"colab-df-container\">\n",
              "      <div>\n",
              "<style scoped>\n",
              "    .dataframe tbody tr th:only-of-type {\n",
              "        vertical-align: middle;\n",
              "    }\n",
              "\n",
              "    .dataframe tbody tr th {\n",
              "        vertical-align: top;\n",
              "    }\n",
              "\n",
              "    .dataframe thead th {\n",
              "        text-align: right;\n",
              "    }\n",
              "</style>\n",
              "<table border=\"1\" class=\"dataframe\">\n",
              "  <thead>\n",
              "    <tr style=\"text-align: right;\">\n",
              "      <th></th>\n",
              "      <th>Rank</th>\n",
              "      <th>Channel Info</th>\n",
              "      <th>Influence Score</th>\n",
              "      <th>Followers</th>\n",
              "      <th>Avg. Likes</th>\n",
              "      <th>Posts</th>\n",
              "      <th>60-Day Eng Rate</th>\n",
              "      <th>New Post Avg. Likes</th>\n",
              "      <th>Total Likes</th>\n",
              "      <th>Country Or Region</th>\n",
              "    </tr>\n",
              "  </thead>\n",
              "  <tbody>\n",
              "    <tr>\n",
              "      <th>0</th>\n",
              "      <td>1</td>\n",
              "      <td>\\ncristiano</td>\n",
              "      <td>92</td>\n",
              "      <td>485200000.0</td>\n",
              "      <td>8700000.0</td>\n",
              "      <td>3400.0</td>\n",
              "      <td>0.013</td>\n",
              "      <td>6300000.0</td>\n",
              "      <td>2.910000e+10</td>\n",
              "      <td>Spain</td>\n",
              "    </tr>\n",
              "    <tr>\n",
              "      <th>1</th>\n",
              "      <td>2</td>\n",
              "      <td>kyliejenner</td>\n",
              "      <td>91</td>\n",
              "      <td>370700000.0</td>\n",
              "      <td>8200000.0</td>\n",
              "      <td>7000.0</td>\n",
              "      <td>0.014</td>\n",
              "      <td>5000000.0</td>\n",
              "      <td>5.740000e+10</td>\n",
              "      <td>United States</td>\n",
              "    </tr>\n",
              "    <tr>\n",
              "      <th>2</th>\n",
              "      <td>3</td>\n",
              "      <td>\\nleomessi</td>\n",
              "      <td>90</td>\n",
              "      <td>363900000.0</td>\n",
              "      <td>6700000.0</td>\n",
              "      <td>915.0</td>\n",
              "      <td>0.010</td>\n",
              "      <td>3500000.0</td>\n",
              "      <td>6.100000e+09</td>\n",
              "      <td>United States</td>\n",
              "    </tr>\n",
              "    <tr>\n",
              "      <th>3</th>\n",
              "      <td>4</td>\n",
              "      <td>\\nselenagomez</td>\n",
              "      <td>93</td>\n",
              "      <td>348800000.0</td>\n",
              "      <td>6100000.0</td>\n",
              "      <td>1900.0</td>\n",
              "      <td>0.005</td>\n",
              "      <td>1700000.0</td>\n",
              "      <td>1.140000e+10</td>\n",
              "      <td>United States</td>\n",
              "    </tr>\n",
              "    <tr>\n",
              "      <th>4</th>\n",
              "      <td>5</td>\n",
              "      <td>\\ntherock</td>\n",
              "      <td>91</td>\n",
              "      <td>339400000.0</td>\n",
              "      <td>1800000.0</td>\n",
              "      <td>6800.0</td>\n",
              "      <td>0.003</td>\n",
              "      <td>932000.0</td>\n",
              "      <td>1.260000e+10</td>\n",
              "      <td>United States</td>\n",
              "    </tr>\n",
              "    <tr>\n",
              "      <th>...</th>\n",
              "      <td>...</td>\n",
              "      <td>...</td>\n",
              "      <td>...</td>\n",
              "      <td>...</td>\n",
              "      <td>...</td>\n",
              "      <td>...</td>\n",
              "      <td>...</td>\n",
              "      <td>...</td>\n",
              "      <td>...</td>\n",
              "      <td>...</td>\n",
              "    </tr>\n",
              "    <tr>\n",
              "      <th>195</th>\n",
              "      <td>196</td>\n",
              "      <td>\\nkhabib_nurmagomedov</td>\n",
              "      <td>63</td>\n",
              "      <td>33600000.0</td>\n",
              "      <td>680600.0</td>\n",
              "      <td>4600.0</td>\n",
              "      <td>0.009</td>\n",
              "      <td>305700.0</td>\n",
              "      <td>3.100000e+09</td>\n",
              "      <td>Russia</td>\n",
              "    </tr>\n",
              "    <tr>\n",
              "      <th>196</th>\n",
              "      <td>197</td>\n",
              "      <td>\\ndanbilzerian</td>\n",
              "      <td>84</td>\n",
              "      <td>33600000.0</td>\n",
              "      <td>2200000.0</td>\n",
              "      <td>1400.0</td>\n",
              "      <td>0.064</td>\n",
              "      <td>2100000.0</td>\n",
              "      <td>3.000000e+09</td>\n",
              "      <td>Canada</td>\n",
              "    </tr>\n",
              "    <tr>\n",
              "      <th>197</th>\n",
              "      <td>198</td>\n",
              "      <td>\\nraisa6690</td>\n",
              "      <td>80</td>\n",
              "      <td>33600000.0</td>\n",
              "      <td>227800.0</td>\n",
              "      <td>4200.0</td>\n",
              "      <td>0.003</td>\n",
              "      <td>103200.0</td>\n",
              "      <td>9.559000e+08</td>\n",
              "      <td>Indonesia</td>\n",
              "    </tr>\n",
              "    <tr>\n",
              "      <th>198</th>\n",
              "      <td>199</td>\n",
              "      <td>\\nluansantana</td>\n",
              "      <td>79</td>\n",
              "      <td>33500000.0</td>\n",
              "      <td>193300.0</td>\n",
              "      <td>865.0</td>\n",
              "      <td>0.003</td>\n",
              "      <td>82600.0</td>\n",
              "      <td>1.672000e+08</td>\n",
              "      <td>Brazil</td>\n",
              "    </tr>\n",
              "    <tr>\n",
              "      <th>199</th>\n",
              "      <td>200</td>\n",
              "      <td>\\nnancyajram</td>\n",
              "      <td>81</td>\n",
              "      <td>33400000.0</td>\n",
              "      <td>382500.0</td>\n",
              "      <td>3800.0</td>\n",
              "      <td>0.004</td>\n",
              "      <td>128200.0</td>\n",
              "      <td>1.500000e+09</td>\n",
              "      <td>France</td>\n",
              "    </tr>\n",
              "  </tbody>\n",
              "</table>\n",
              "<p>200 rows × 10 columns</p>\n",
              "</div>\n",
              "      <button class=\"colab-df-convert\" onclick=\"convertToInteractive('df-58a60199-cf5f-4afb-b72e-8c60cceca480')\"\n",
              "              title=\"Convert this dataframe to an interactive table.\"\n",
              "              style=\"display:none;\">\n",
              "        \n",
              "  <svg xmlns=\"http://www.w3.org/2000/svg\" height=\"24px\"viewBox=\"0 0 24 24\"\n",
              "       width=\"24px\">\n",
              "    <path d=\"M0 0h24v24H0V0z\" fill=\"none\"/>\n",
              "    <path d=\"M18.56 5.44l.94 2.06.94-2.06 2.06-.94-2.06-.94-.94-2.06-.94 2.06-2.06.94zm-11 1L8.5 8.5l.94-2.06 2.06-.94-2.06-.94L8.5 2.5l-.94 2.06-2.06.94zm10 10l.94 2.06.94-2.06 2.06-.94-2.06-.94-.94-2.06-.94 2.06-2.06.94z\"/><path d=\"M17.41 7.96l-1.37-1.37c-.4-.4-.92-.59-1.43-.59-.52 0-1.04.2-1.43.59L10.3 9.45l-7.72 7.72c-.78.78-.78 2.05 0 2.83L4 21.41c.39.39.9.59 1.41.59.51 0 1.02-.2 1.41-.59l7.78-7.78 2.81-2.81c.8-.78.8-2.07 0-2.86zM5.41 20L4 18.59l7.72-7.72 1.47 1.35L5.41 20z\"/>\n",
              "  </svg>\n",
              "      </button>\n",
              "      \n",
              "  <style>\n",
              "    .colab-df-container {\n",
              "      display:flex;\n",
              "      flex-wrap:wrap;\n",
              "      gap: 12px;\n",
              "    }\n",
              "\n",
              "    .colab-df-convert {\n",
              "      background-color: #E8F0FE;\n",
              "      border: none;\n",
              "      border-radius: 50%;\n",
              "      cursor: pointer;\n",
              "      display: none;\n",
              "      fill: #1967D2;\n",
              "      height: 32px;\n",
              "      padding: 0 0 0 0;\n",
              "      width: 32px;\n",
              "    }\n",
              "\n",
              "    .colab-df-convert:hover {\n",
              "      background-color: #E2EBFA;\n",
              "      box-shadow: 0px 1px 2px rgba(60, 64, 67, 0.3), 0px 1px 3px 1px rgba(60, 64, 67, 0.15);\n",
              "      fill: #174EA6;\n",
              "    }\n",
              "\n",
              "    [theme=dark] .colab-df-convert {\n",
              "      background-color: #3B4455;\n",
              "      fill: #D2E3FC;\n",
              "    }\n",
              "\n",
              "    [theme=dark] .colab-df-convert:hover {\n",
              "      background-color: #434B5C;\n",
              "      box-shadow: 0px 1px 3px 1px rgba(0, 0, 0, 0.15);\n",
              "      filter: drop-shadow(0px 1px 2px rgba(0, 0, 0, 0.3));\n",
              "      fill: #FFFFFF;\n",
              "    }\n",
              "  </style>\n",
              "\n",
              "      <script>\n",
              "        const buttonEl =\n",
              "          document.querySelector('#df-58a60199-cf5f-4afb-b72e-8c60cceca480 button.colab-df-convert');\n",
              "        buttonEl.style.display =\n",
              "          google.colab.kernel.accessAllowed ? 'block' : 'none';\n",
              "\n",
              "        async function convertToInteractive(key) {\n",
              "          const element = document.querySelector('#df-58a60199-cf5f-4afb-b72e-8c60cceca480');\n",
              "          const dataTable =\n",
              "            await google.colab.kernel.invokeFunction('convertToInteractive',\n",
              "                                                     [key], {});\n",
              "          if (!dataTable) return;\n",
              "\n",
              "          const docLinkHtml = 'Like what you see? Visit the ' +\n",
              "            '<a target=\"_blank\" href=https://colab.research.google.com/notebooks/data_table.ipynb>data table notebook</a>'\n",
              "            + ' to learn more about interactive tables.';\n",
              "          element.innerHTML = '';\n",
              "          dataTable['output_type'] = 'display_data';\n",
              "          await google.colab.output.renderOutput(dataTable, element);\n",
              "          const docLink = document.createElement('div');\n",
              "          docLink.innerHTML = docLinkHtml;\n",
              "          element.appendChild(docLink);\n",
              "        }\n",
              "      </script>\n",
              "    </div>\n",
              "  </div>\n",
              "  "
            ]
          },
          "metadata": {},
          "execution_count": 12
        }
      ]
    },
    {
      "cell_type": "code",
      "source": [
        "df.isnull().sum()"
      ],
      "metadata": {
        "colab": {
          "base_uri": "https://localhost:8080/"
        },
        "id": "-2HADvcxcJJi",
        "outputId": "deaddc87-5e6c-449a-b225-d19ff5a40484"
      },
      "execution_count": 13,
      "outputs": [
        {
          "output_type": "execute_result",
          "data": {
            "text/plain": [
              "Rank                   0\n",
              "Channel Info           0\n",
              "Influence Score        0\n",
              "Followers              0\n",
              "Avg. Likes             0\n",
              "Posts                  0\n",
              "60-Day Eng Rate        0\n",
              "New Post Avg. Likes    0\n",
              "Total Likes            0\n",
              "Country Or Region      0\n",
              "dtype: int64"
            ]
          },
          "metadata": {},
          "execution_count": 13
        }
      ]
    },
    {
      "cell_type": "markdown",
      "source": [
        "#1 QUESTION\n",
        "Are there any correlated features in the given dataset? If yes, state the correlation coefficient of the pair of features which are highly correlated.\n",
        "## ANSWER\n",
        "New post Avg.likes and Avg.Likes"
      ],
      "metadata": {
        "id": "iF3yuLtbspgs"
      }
    },
    {
      "cell_type": "code",
      "source": [
        "# corelation feature in given dataset\n",
        "corr = df.corr().abs()\n",
        "corr"
      ],
      "metadata": {
        "colab": {
          "base_uri": "https://localhost:8080/",
          "height": 300
        },
        "id": "jRJ5SywtcJCt",
        "outputId": "d201c7b1-3682-4363-e54d-45ce76a2a6c6"
      },
      "execution_count": 14,
      "outputs": [
        {
          "output_type": "execute_result",
          "data": {
            "text/plain": [
              "                         Rank  Influence Score  Followers  Avg. Likes  \\\n",
              "Rank                 1.000000         0.354843   0.698193    0.277699   \n",
              "Influence Score      0.354843         1.000000   0.365428    0.048502   \n",
              "Followers            0.698193         0.365428   1.000000    0.346829   \n",
              "Avg. Likes           0.277699         0.048502   0.346829    1.000000   \n",
              "Posts                0.058132         0.168287   0.069171    0.348795   \n",
              "60-Day Eng Rate      0.028900         0.072460   0.107439    0.789359   \n",
              "New Post Avg. Likes  0.272323         0.040011   0.260764    0.892784   \n",
              "Total Likes          0.465119         0.234987   0.667546    0.361296   \n",
              "\n",
              "                        Posts  60-Day Eng Rate  New Post Avg. Likes  \\\n",
              "Rank                 0.058132         0.028900             0.272323   \n",
              "Influence Score      0.168287         0.072460             0.040011   \n",
              "Followers            0.069171         0.107439             0.260764   \n",
              "Avg. Likes           0.348795         0.789359             0.892784   \n",
              "Posts                1.000000         0.334047             0.285154   \n",
              "60-Day Eng Rate      0.334047         1.000000             0.866293   \n",
              "New Post Avg. Likes  0.285154         0.866293             1.000000   \n",
              "Total Likes          0.232038         0.001560             0.351335   \n",
              "\n",
              "                     Total Likes  \n",
              "Rank                    0.465119  \n",
              "Influence Score         0.234987  \n",
              "Followers               0.667546  \n",
              "Avg. Likes              0.361296  \n",
              "Posts                   0.232038  \n",
              "60-Day Eng Rate         0.001560  \n",
              "New Post Avg. Likes     0.351335  \n",
              "Total Likes             1.000000  "
            ],
            "text/html": [
              "\n",
              "  <div id=\"df-9ee10c9b-40d0-412e-b0bc-756d58d018ea\">\n",
              "    <div class=\"colab-df-container\">\n",
              "      <div>\n",
              "<style scoped>\n",
              "    .dataframe tbody tr th:only-of-type {\n",
              "        vertical-align: middle;\n",
              "    }\n",
              "\n",
              "    .dataframe tbody tr th {\n",
              "        vertical-align: top;\n",
              "    }\n",
              "\n",
              "    .dataframe thead th {\n",
              "        text-align: right;\n",
              "    }\n",
              "</style>\n",
              "<table border=\"1\" class=\"dataframe\">\n",
              "  <thead>\n",
              "    <tr style=\"text-align: right;\">\n",
              "      <th></th>\n",
              "      <th>Rank</th>\n",
              "      <th>Influence Score</th>\n",
              "      <th>Followers</th>\n",
              "      <th>Avg. Likes</th>\n",
              "      <th>Posts</th>\n",
              "      <th>60-Day Eng Rate</th>\n",
              "      <th>New Post Avg. Likes</th>\n",
              "      <th>Total Likes</th>\n",
              "    </tr>\n",
              "  </thead>\n",
              "  <tbody>\n",
              "    <tr>\n",
              "      <th>Rank</th>\n",
              "      <td>1.000000</td>\n",
              "      <td>0.354843</td>\n",
              "      <td>0.698193</td>\n",
              "      <td>0.277699</td>\n",
              "      <td>0.058132</td>\n",
              "      <td>0.028900</td>\n",
              "      <td>0.272323</td>\n",
              "      <td>0.465119</td>\n",
              "    </tr>\n",
              "    <tr>\n",
              "      <th>Influence Score</th>\n",
              "      <td>0.354843</td>\n",
              "      <td>1.000000</td>\n",
              "      <td>0.365428</td>\n",
              "      <td>0.048502</td>\n",
              "      <td>0.168287</td>\n",
              "      <td>0.072460</td>\n",
              "      <td>0.040011</td>\n",
              "      <td>0.234987</td>\n",
              "    </tr>\n",
              "    <tr>\n",
              "      <th>Followers</th>\n",
              "      <td>0.698193</td>\n",
              "      <td>0.365428</td>\n",
              "      <td>1.000000</td>\n",
              "      <td>0.346829</td>\n",
              "      <td>0.069171</td>\n",
              "      <td>0.107439</td>\n",
              "      <td>0.260764</td>\n",
              "      <td>0.667546</td>\n",
              "    </tr>\n",
              "    <tr>\n",
              "      <th>Avg. Likes</th>\n",
              "      <td>0.277699</td>\n",
              "      <td>0.048502</td>\n",
              "      <td>0.346829</td>\n",
              "      <td>1.000000</td>\n",
              "      <td>0.348795</td>\n",
              "      <td>0.789359</td>\n",
              "      <td>0.892784</td>\n",
              "      <td>0.361296</td>\n",
              "    </tr>\n",
              "    <tr>\n",
              "      <th>Posts</th>\n",
              "      <td>0.058132</td>\n",
              "      <td>0.168287</td>\n",
              "      <td>0.069171</td>\n",
              "      <td>0.348795</td>\n",
              "      <td>1.000000</td>\n",
              "      <td>0.334047</td>\n",
              "      <td>0.285154</td>\n",
              "      <td>0.232038</td>\n",
              "    </tr>\n",
              "    <tr>\n",
              "      <th>60-Day Eng Rate</th>\n",
              "      <td>0.028900</td>\n",
              "      <td>0.072460</td>\n",
              "      <td>0.107439</td>\n",
              "      <td>0.789359</td>\n",
              "      <td>0.334047</td>\n",
              "      <td>1.000000</td>\n",
              "      <td>0.866293</td>\n",
              "      <td>0.001560</td>\n",
              "    </tr>\n",
              "    <tr>\n",
              "      <th>New Post Avg. Likes</th>\n",
              "      <td>0.272323</td>\n",
              "      <td>0.040011</td>\n",
              "      <td>0.260764</td>\n",
              "      <td>0.892784</td>\n",
              "      <td>0.285154</td>\n",
              "      <td>0.866293</td>\n",
              "      <td>1.000000</td>\n",
              "      <td>0.351335</td>\n",
              "    </tr>\n",
              "    <tr>\n",
              "      <th>Total Likes</th>\n",
              "      <td>0.465119</td>\n",
              "      <td>0.234987</td>\n",
              "      <td>0.667546</td>\n",
              "      <td>0.361296</td>\n",
              "      <td>0.232038</td>\n",
              "      <td>0.001560</td>\n",
              "      <td>0.351335</td>\n",
              "      <td>1.000000</td>\n",
              "    </tr>\n",
              "  </tbody>\n",
              "</table>\n",
              "</div>\n",
              "      <button class=\"colab-df-convert\" onclick=\"convertToInteractive('df-9ee10c9b-40d0-412e-b0bc-756d58d018ea')\"\n",
              "              title=\"Convert this dataframe to an interactive table.\"\n",
              "              style=\"display:none;\">\n",
              "        \n",
              "  <svg xmlns=\"http://www.w3.org/2000/svg\" height=\"24px\"viewBox=\"0 0 24 24\"\n",
              "       width=\"24px\">\n",
              "    <path d=\"M0 0h24v24H0V0z\" fill=\"none\"/>\n",
              "    <path d=\"M18.56 5.44l.94 2.06.94-2.06 2.06-.94-2.06-.94-.94-2.06-.94 2.06-2.06.94zm-11 1L8.5 8.5l.94-2.06 2.06-.94-2.06-.94L8.5 2.5l-.94 2.06-2.06.94zm10 10l.94 2.06.94-2.06 2.06-.94-2.06-.94-.94-2.06-.94 2.06-2.06.94z\"/><path d=\"M17.41 7.96l-1.37-1.37c-.4-.4-.92-.59-1.43-.59-.52 0-1.04.2-1.43.59L10.3 9.45l-7.72 7.72c-.78.78-.78 2.05 0 2.83L4 21.41c.39.39.9.59 1.41.59.51 0 1.02-.2 1.41-.59l7.78-7.78 2.81-2.81c.8-.78.8-2.07 0-2.86zM5.41 20L4 18.59l7.72-7.72 1.47 1.35L5.41 20z\"/>\n",
              "  </svg>\n",
              "      </button>\n",
              "      \n",
              "  <style>\n",
              "    .colab-df-container {\n",
              "      display:flex;\n",
              "      flex-wrap:wrap;\n",
              "      gap: 12px;\n",
              "    }\n",
              "\n",
              "    .colab-df-convert {\n",
              "      background-color: #E8F0FE;\n",
              "      border: none;\n",
              "      border-radius: 50%;\n",
              "      cursor: pointer;\n",
              "      display: none;\n",
              "      fill: #1967D2;\n",
              "      height: 32px;\n",
              "      padding: 0 0 0 0;\n",
              "      width: 32px;\n",
              "    }\n",
              "\n",
              "    .colab-df-convert:hover {\n",
              "      background-color: #E2EBFA;\n",
              "      box-shadow: 0px 1px 2px rgba(60, 64, 67, 0.3), 0px 1px 3px 1px rgba(60, 64, 67, 0.15);\n",
              "      fill: #174EA6;\n",
              "    }\n",
              "\n",
              "    [theme=dark] .colab-df-convert {\n",
              "      background-color: #3B4455;\n",
              "      fill: #D2E3FC;\n",
              "    }\n",
              "\n",
              "    [theme=dark] .colab-df-convert:hover {\n",
              "      background-color: #434B5C;\n",
              "      box-shadow: 0px 1px 3px 1px rgba(0, 0, 0, 0.15);\n",
              "      filter: drop-shadow(0px 1px 2px rgba(0, 0, 0, 0.3));\n",
              "      fill: #FFFFFF;\n",
              "    }\n",
              "  </style>\n",
              "\n",
              "      <script>\n",
              "        const buttonEl =\n",
              "          document.querySelector('#df-9ee10c9b-40d0-412e-b0bc-756d58d018ea button.colab-df-convert');\n",
              "        buttonEl.style.display =\n",
              "          google.colab.kernel.accessAllowed ? 'block' : 'none';\n",
              "\n",
              "        async function convertToInteractive(key) {\n",
              "          const element = document.querySelector('#df-9ee10c9b-40d0-412e-b0bc-756d58d018ea');\n",
              "          const dataTable =\n",
              "            await google.colab.kernel.invokeFunction('convertToInteractive',\n",
              "                                                     [key], {});\n",
              "          if (!dataTable) return;\n",
              "\n",
              "          const docLinkHtml = 'Like what you see? Visit the ' +\n",
              "            '<a target=\"_blank\" href=https://colab.research.google.com/notebooks/data_table.ipynb>data table notebook</a>'\n",
              "            + ' to learn more about interactive tables.';\n",
              "          element.innerHTML = '';\n",
              "          dataTable['output_type'] = 'display_data';\n",
              "          await google.colab.output.renderOutput(dataTable, element);\n",
              "          const docLink = document.createElement('div');\n",
              "          docLink.innerHTML = docLinkHtml;\n",
              "          element.appendChild(docLink);\n",
              "        }\n",
              "      </script>\n",
              "    </div>\n",
              "  </div>\n",
              "  "
            ]
          },
          "metadata": {},
          "execution_count": 14
        }
      ]
    },
    {
      "cell_type": "code",
      "source": [
        "df[['New Post Avg. Likes','Avg. Likes']].corr()"
      ],
      "metadata": {
        "colab": {
          "base_uri": "https://localhost:8080/",
          "height": 112
        },
        "id": "4O9iX9UpwVv3",
        "outputId": "eebd0d41-9f99-472e-ee8d-f5e7845605a9"
      },
      "execution_count": 18,
      "outputs": [
        {
          "output_type": "execute_result",
          "data": {
            "text/plain": [
              "                     New Post Avg. Likes  Avg. Likes\n",
              "New Post Avg. Likes             1.000000    0.892784\n",
              "Avg. Likes                      0.892784    1.000000"
            ],
            "text/html": [
              "\n",
              "  <div id=\"df-f0b76ac3-9f60-4fcd-af1f-07ced48c58a8\">\n",
              "    <div class=\"colab-df-container\">\n",
              "      <div>\n",
              "<style scoped>\n",
              "    .dataframe tbody tr th:only-of-type {\n",
              "        vertical-align: middle;\n",
              "    }\n",
              "\n",
              "    .dataframe tbody tr th {\n",
              "        vertical-align: top;\n",
              "    }\n",
              "\n",
              "    .dataframe thead th {\n",
              "        text-align: right;\n",
              "    }\n",
              "</style>\n",
              "<table border=\"1\" class=\"dataframe\">\n",
              "  <thead>\n",
              "    <tr style=\"text-align: right;\">\n",
              "      <th></th>\n",
              "      <th>New Post Avg. Likes</th>\n",
              "      <th>Avg. Likes</th>\n",
              "    </tr>\n",
              "  </thead>\n",
              "  <tbody>\n",
              "    <tr>\n",
              "      <th>New Post Avg. Likes</th>\n",
              "      <td>1.000000</td>\n",
              "      <td>0.892784</td>\n",
              "    </tr>\n",
              "    <tr>\n",
              "      <th>Avg. Likes</th>\n",
              "      <td>0.892784</td>\n",
              "      <td>1.000000</td>\n",
              "    </tr>\n",
              "  </tbody>\n",
              "</table>\n",
              "</div>\n",
              "      <button class=\"colab-df-convert\" onclick=\"convertToInteractive('df-f0b76ac3-9f60-4fcd-af1f-07ced48c58a8')\"\n",
              "              title=\"Convert this dataframe to an interactive table.\"\n",
              "              style=\"display:none;\">\n",
              "        \n",
              "  <svg xmlns=\"http://www.w3.org/2000/svg\" height=\"24px\"viewBox=\"0 0 24 24\"\n",
              "       width=\"24px\">\n",
              "    <path d=\"M0 0h24v24H0V0z\" fill=\"none\"/>\n",
              "    <path d=\"M18.56 5.44l.94 2.06.94-2.06 2.06-.94-2.06-.94-.94-2.06-.94 2.06-2.06.94zm-11 1L8.5 8.5l.94-2.06 2.06-.94-2.06-.94L8.5 2.5l-.94 2.06-2.06.94zm10 10l.94 2.06.94-2.06 2.06-.94-2.06-.94-.94-2.06-.94 2.06-2.06.94z\"/><path d=\"M17.41 7.96l-1.37-1.37c-.4-.4-.92-.59-1.43-.59-.52 0-1.04.2-1.43.59L10.3 9.45l-7.72 7.72c-.78.78-.78 2.05 0 2.83L4 21.41c.39.39.9.59 1.41.59.51 0 1.02-.2 1.41-.59l7.78-7.78 2.81-2.81c.8-.78.8-2.07 0-2.86zM5.41 20L4 18.59l7.72-7.72 1.47 1.35L5.41 20z\"/>\n",
              "  </svg>\n",
              "      </button>\n",
              "      \n",
              "  <style>\n",
              "    .colab-df-container {\n",
              "      display:flex;\n",
              "      flex-wrap:wrap;\n",
              "      gap: 12px;\n",
              "    }\n",
              "\n",
              "    .colab-df-convert {\n",
              "      background-color: #E8F0FE;\n",
              "      border: none;\n",
              "      border-radius: 50%;\n",
              "      cursor: pointer;\n",
              "      display: none;\n",
              "      fill: #1967D2;\n",
              "      height: 32px;\n",
              "      padding: 0 0 0 0;\n",
              "      width: 32px;\n",
              "    }\n",
              "\n",
              "    .colab-df-convert:hover {\n",
              "      background-color: #E2EBFA;\n",
              "      box-shadow: 0px 1px 2px rgba(60, 64, 67, 0.3), 0px 1px 3px 1px rgba(60, 64, 67, 0.15);\n",
              "      fill: #174EA6;\n",
              "    }\n",
              "\n",
              "    [theme=dark] .colab-df-convert {\n",
              "      background-color: #3B4455;\n",
              "      fill: #D2E3FC;\n",
              "    }\n",
              "\n",
              "    [theme=dark] .colab-df-convert:hover {\n",
              "      background-color: #434B5C;\n",
              "      box-shadow: 0px 1px 3px 1px rgba(0, 0, 0, 0.15);\n",
              "      filter: drop-shadow(0px 1px 2px rgba(0, 0, 0, 0.3));\n",
              "      fill: #FFFFFF;\n",
              "    }\n",
              "  </style>\n",
              "\n",
              "      <script>\n",
              "        const buttonEl =\n",
              "          document.querySelector('#df-f0b76ac3-9f60-4fcd-af1f-07ced48c58a8 button.colab-df-convert');\n",
              "        buttonEl.style.display =\n",
              "          google.colab.kernel.accessAllowed ? 'block' : 'none';\n",
              "\n",
              "        async function convertToInteractive(key) {\n",
              "          const element = document.querySelector('#df-f0b76ac3-9f60-4fcd-af1f-07ced48c58a8');\n",
              "          const dataTable =\n",
              "            await google.colab.kernel.invokeFunction('convertToInteractive',\n",
              "                                                     [key], {});\n",
              "          if (!dataTable) return;\n",
              "\n",
              "          const docLinkHtml = 'Like what you see? Visit the ' +\n",
              "            '<a target=\"_blank\" href=https://colab.research.google.com/notebooks/data_table.ipynb>data table notebook</a>'\n",
              "            + ' to learn more about interactive tables.';\n",
              "          element.innerHTML = '';\n",
              "          dataTable['output_type'] = 'display_data';\n",
              "          await google.colab.output.renderOutput(dataTable, element);\n",
              "          const docLink = document.createElement('div');\n",
              "          docLink.innerHTML = docLinkHtml;\n",
              "          element.appendChild(docLink);\n",
              "        }\n",
              "      </script>\n",
              "    </div>\n",
              "  </div>\n",
              "  "
            ]
          },
          "metadata": {},
          "execution_count": 18
        }
      ]
    },
    {
      "cell_type": "code",
      "source": [
        "# highly correlated pair feature\n",
        "\n",
        "df[\"New Post Avg. Likes\"].corr(df[\"Avg. Likes\"])"
      ],
      "metadata": {
        "colab": {
          "base_uri": "https://localhost:8080/"
        },
        "id": "EnlDVU4JcI6E",
        "outputId": "49d905b0-6cad-42af-847a-c5b28876e66f"
      },
      "execution_count": 16,
      "outputs": [
        {
          "output_type": "execute_result",
          "data": {
            "text/plain": [
              "0.8927840403263658"
            ]
          },
          "metadata": {},
          "execution_count": 16
        }
      ]
    },
    {
      "cell_type": "code",
      "source": [
        "sns.heatmap(corr, annot = True)"
      ],
      "metadata": {
        "colab": {
          "base_uri": "https://localhost:8080/",
          "height": 375
        },
        "id": "TozWvolrcIyq",
        "outputId": "eb36125e-fe8f-468d-f732-dfbd81852b9e"
      },
      "execution_count": 17,
      "outputs": [
        {
          "output_type": "execute_result",
          "data": {
            "text/plain": [
              "<Axes: >"
            ]
          },
          "metadata": {},
          "execution_count": 17
        },
        {
          "output_type": "display_data",
          "data": {
            "text/plain": [
              "<Figure size 432x288 with 2 Axes>"
            ],
            "image/png": "[encoded data removed]"
          },
          "metadata": {
            "needs_background": "light"
          }
        }
      ]
    },
    {
      "cell_type": "markdown",
      "source": [
        "#2 QUESTION\n",
        "##What is the frequency distribution of the following features?\n",
        "##1) Influence Score\n",
        "##2) Followers\n",
        "##3) Posts\n",
        "#2 ANSWER\n",
        "##Influence Score: SKEWED DISTRIBUTION\n",
        "##Followers: SKEWED DISTRIBUTION\n",
        "#Posts: SKEWED DISTRIBUTION"
      ],
      "metadata": {
        "id": "rPAX6ordxeGv"
      }
    },
    {
      "cell_type": "code",
      "source": [
        "#Checking for the frequency in Influence score column\n",
        "plt.hist(df['Influence Score'])\n",
        "plt.title('Frequency distribution of Influence Score')\n",
        "plt.show()\n",
        "\n",
        "#Checking for the frequency in Followers column\n",
        "plt.hist(df['Followers'])\n",
        "plt.title('Frequency distribution of Followers')\n",
        "plt.show()\n",
        "\n",
        "#Checking for the frequency in posts column\n",
        "plt.hist(df['Posts'])\n",
        "plt.title('Frequency distribution of Post')\n",
        "plt.show()"
      ],
      "metadata": {
        "colab": {
          "base_uri": "https://localhost:8080/",
          "height": 822
        },
        "id": "UCquSxlZcIsD",
        "outputId": "7c5bee59-12da-48e6-e361-d073e78fb6ca"
      },
      "execution_count": 19,
      "outputs": [
        {
          "output_type": "display_data",
          "data": {
            "text/plain": [
              "<Figure size 432x288 with 1 Axes>"
            ],
            "image/png": "[encoded data removed]"
          },
          "metadata": {
            "needs_background": "light"
          }
        },
        {
          "output_type": "display_data",
          "data": {
            "text/plain": [
              "<Figure size 432x288 with 1 Axes>"
            ],
            "image/png": "[encoded data removed]"
          },
          "metadata": {
            "needs_background": "light"
          }
        },
        {
          "output_type": "display_data",
          "data": {
            "text/plain": [
              "<Figure size 432x288 with 1 Axes>"
            ],
            "image/png": "[encoded data removed]"
          },
          "metadata": {
            "needs_background": "light"
          }
        }
      ]
    },
    {
      "cell_type": "markdown",
      "source": [
        "#3 QUESTION\n",
        "Which country houses the highest number of Instagram Influencers? Please show the count of Instagram influencers in different countries using barchart.\n",
        "#3 ANSWER\n",
        "United States "
      ],
      "metadata": {
        "id": "KzmytBrGy6-m"
      }
    },
    {
      "cell_type": "code",
      "source": [
        "df[\"Country Or Region\"].value_counts().plot.bar(figsize=(14, 6))\n",
        "plt.title('Highest number of Instagram Influencers')\n",
        "plt.show()"
      ],
      "metadata": {
        "colab": {
          "base_uri": "https://localhost:8080/",
          "height": 487
        },
        "id": "yT24eqeQcIlP",
        "outputId": "d0c22ab5-fe3a-4cc4-917a-d1bf1d0e2a9f"
      },
      "execution_count": 20,
      "outputs": [
        {
          "output_type": "display_data",
          "data": {
            "text/plain": [
              "<Figure size 1008x432 with 1 Axes>"
            ],
            "image/png": "[encoded data removed]"
          },
          "metadata": {
            "needs_background": "light"
          }
        }
      ]
    },
    {
      "cell_type": "markdown",
      "source": [
        "#4 QUESTION\n",
        "Who are the top 10 influencers in the given dataset based on the following features\n",
        "##1) Followers\n",
        "##2) Average likes\n",
        "##3) Total Likes"
      ],
      "metadata": {
        "id": "xr9XazmKzgPG"
      }
    },
    {
      "cell_type": "code",
      "source": [
        "dff = df[[\"Channel Info\",\"Followers\",\"Avg. Likes\",\"Total Likes\"]].sort_values(by =[\"Followers\",\"Avg. Likes\",\"Total Likes\"], ascending = False)\n",
        "dff[0:10]"
      ],
      "metadata": {
        "colab": {
          "base_uri": "https://localhost:8080/",
          "height": 363
        },
        "id": "penf7xovcIdd",
        "outputId": "c52e3d9d-b91b-4f3f-bd4e-9cf040c8cbce"
      },
      "execution_count": 22,
      "outputs": [
        {
          "output_type": "execute_result",
          "data": {
            "text/plain": [
              "        Channel Info    Followers  Avg. Likes   Total Likes\n",
              "0        \\ncristiano  485200000.0   8700000.0  2.910000e+10\n",
              "1        kyliejenner  370700000.0   8200000.0  5.740000e+10\n",
              "2         \\nleomessi  363900000.0   6700000.0  6.100000e+09\n",
              "3      \\nselenagomez  348800000.0   6100000.0  1.140000e+10\n",
              "4          \\ntherock  339400000.0   1800000.0  1.260000e+10\n",
              "5     \\narianagrande  333000000.0   3700000.0  1.850000e+10\n",
              "6    \\nkimkardashian  330700000.0   3500000.0  1.980000e+10\n",
              "7          \\nbeyonce  276100000.0   3600000.0  7.300000e+09\n",
              "8  \\nkhloekardashian  273900000.0   2400000.0  9.800000e+09\n",
              "9     \\njustinbieber  260000000.0   1900000.0  1.400000e+10"
            ],
            "text/html": [
              "\n",
              "  <div id=\"df-4321398f-86d2-486e-a632-ae2cb35874fa\">\n",
              "    <div class=\"colab-df-container\">\n",
              "      <div>\n",
              "<style scoped>\n",
              "    .dataframe tbody tr th:only-of-type {\n",
              "        vertical-align: middle;\n",
              "    }\n",
              "\n",
              "    .dataframe tbody tr th {\n",
              "        vertical-align: top;\n",
              "    }\n",
              "\n",
              "    .dataframe thead th {\n",
              "        text-align: right;\n",
              "    }\n",
              "</style>\n",
              "<table border=\"1\" class=\"dataframe\">\n",
              "  <thead>\n",
              "    <tr style=\"text-align: right;\">\n",
              "      <th></th>\n",
              "      <th>Channel Info</th>\n",
              "      <th>Followers</th>\n",
              "      <th>Avg. Likes</th>\n",
              "      <th>Total Likes</th>\n",
              "    </tr>\n",
              "  </thead>\n",
              "  <tbody>\n",
              "    <tr>\n",
              "      <th>0</th>\n",
              "      <td>\\ncristiano</td>\n",
              "      <td>485200000.0</td>\n",
              "      <td>8700000.0</td>\n",
              "      <td>2.910000e+10</td>\n",
              "    </tr>\n",
              "    <tr>\n",
              "      <th>1</th>\n",
              "      <td>kyliejenner</td>\n",
              "      <td>370700000.0</td>\n",
              "      <td>8200000.0</td>\n",
              "      <td>5.740000e+10</td>\n",
              "    </tr>\n",
              "    <tr>\n",
              "      <th>2</th>\n",
              "      <td>\\nleomessi</td>\n",
              "      <td>363900000.0</td>\n",
              "      <td>6700000.0</td>\n",
              "      <td>6.100000e+09</td>\n",
              "    </tr>\n",
              "    <tr>\n",
              "      <th>3</th>\n",
              "      <td>\\nselenagomez</td>\n",
              "      <td>348800000.0</td>\n",
              "      <td>6100000.0</td>\n",
              "      <td>1.140000e+10</td>\n",
              "    </tr>\n",
              "    <tr>\n",
              "      <th>4</th>\n",
              "      <td>\\ntherock</td>\n",
              "      <td>339400000.0</td>\n",
              "      <td>1800000.0</td>\n",
              "      <td>1.260000e+10</td>\n",
              "    </tr>\n",
              "    <tr>\n",
              "      <th>5</th>\n",
              "      <td>\\narianagrande</td>\n",
              "      <td>333000000.0</td>\n",
              "      <td>3700000.0</td>\n",
              "      <td>1.850000e+10</td>\n",
              "    </tr>\n",
              "    <tr>\n",
              "      <th>6</th>\n",
              "      <td>\\nkimkardashian</td>\n",
              "      <td>330700000.0</td>\n",
              "      <td>3500000.0</td>\n",
              "      <td>1.980000e+10</td>\n",
              "    </tr>\n",
              "    <tr>\n",
              "      <th>7</th>\n",
              "      <td>\\nbeyonce</td>\n",
              "      <td>276100000.0</td>\n",
              "      <td>3600000.0</td>\n",
              "      <td>7.300000e+09</td>\n",
              "    </tr>\n",
              "    <tr>\n",
              "      <th>8</th>\n",
              "      <td>\\nkhloekardashian</td>\n",
              "      <td>273900000.0</td>\n",
              "      <td>2400000.0</td>\n",
              "      <td>9.800000e+09</td>\n",
              "    </tr>\n",
              "    <tr>\n",
              "      <th>9</th>\n",
              "      <td>\\njustinbieber</td>\n",
              "      <td>260000000.0</td>\n",
              "      <td>1900000.0</td>\n",
              "      <td>1.400000e+10</td>\n",
              "    </tr>\n",
              "  </tbody>\n",
              "</table>\n",
              "</div>\n",
              "      <button class=\"colab-df-convert\" onclick=\"convertToInteractive('df-4321398f-86d2-486e-a632-ae2cb35874fa')\"\n",
              "              title=\"Convert this dataframe to an interactive table.\"\n",
              "              style=\"display:none;\">\n",
              "        \n",
              "  <svg xmlns=\"http://www.w3.org/2000/svg\" height=\"24px\"viewBox=\"0 0 24 24\"\n",
              "       width=\"24px\">\n",
              "    <path d=\"M0 0h24v24H0V0z\" fill=\"none\"/>\n",
              "    <path d=\"M18.56 5.44l.94 2.06.94-2.06 2.06-.94-2.06-.94-.94-2.06-.94 2.06-2.06.94zm-11 1L8.5 8.5l.94-2.06 2.06-.94-2.06-.94L8.5 2.5l-.94 2.06-2.06.94zm10 10l.94 2.06.94-2.06 2.06-.94-2.06-.94-.94-2.06-.94 2.06-2.06.94z\"/><path d=\"M17.41 7.96l-1.37-1.37c-.4-.4-.92-.59-1.43-.59-.52 0-1.04.2-1.43.59L10.3 9.45l-7.72 7.72c-.78.78-.78 2.05 0 2.83L4 21.41c.39.39.9.59 1.41.59.51 0 1.02-.2 1.41-.59l7.78-7.78 2.81-2.81c.8-.78.8-2.07 0-2.86zM5.41 20L4 18.59l7.72-7.72 1.47 1.35L5.41 20z\"/>\n",
              "  </svg>\n",
              "      </button>\n",
              "      \n",
              "  <style>\n",
              "    .colab-df-container {\n",
              "      display:flex;\n",
              "      flex-wrap:wrap;\n",
              "      gap: 12px;\n",
              "    }\n",
              "\n",
              "    .colab-df-convert {\n",
              "      background-color: #E8F0FE;\n",
              "      border: none;\n",
              "      border-radius: 50%;\n",
              "      cursor: pointer;\n",
              "      display: none;\n",
              "      fill: #1967D2;\n",
              "      height: 32px;\n",
              "      padding: 0 0 0 0;\n",
              "      width: 32px;\n",
              "    }\n",
              "\n",
              "    .colab-df-convert:hover {\n",
              "      background-color: #E2EBFA;\n",
              "      box-shadow: 0px 1px 2px rgba(60, 64, 67, 0.3), 0px 1px 3px 1px rgba(60, 64, 67, 0.15);\n",
              "      fill: #174EA6;\n",
              "    }\n",
              "\n",
              "    [theme=dark] .colab-df-convert {\n",
              "      background-color: #3B4455;\n",
              "      fill: #D2E3FC;\n",
              "    }\n",
              "\n",
              "    [theme=dark] .colab-df-convert:hover {\n",
              "      background-color: #434B5C;\n",
              "      box-shadow: 0px 1px 3px 1px rgba(0, 0, 0, 0.15);\n",
              "      filter: drop-shadow(0px 1px 2px rgba(0, 0, 0, 0.3));\n",
              "      fill: #FFFFFF;\n",
              "    }\n",
              "  </style>\n",
              "\n",
              "      <script>\n",
              "        const buttonEl =\n",
              "          document.querySelector('#df-4321398f-86d2-486e-a632-ae2cb35874fa button.colab-df-convert');\n",
              "        buttonEl.style.display =\n",
              "          google.colab.kernel.accessAllowed ? 'block' : 'none';\n",
              "\n",
              "        async function convertToInteractive(key) {\n",
              "          const element = document.querySelector('#df-4321398f-86d2-486e-a632-ae2cb35874fa');\n",
              "          const dataTable =\n",
              "            await google.colab.kernel.invokeFunction('convertToInteractive',\n",
              "                                                     [key], {});\n",
              "          if (!dataTable) return;\n",
              "\n",
              "          const docLinkHtml = 'Like what you see? Visit the ' +\n",
              "            '<a target=\"_blank\" href=https://colab.research.google.com/notebooks/data_table.ipynb>data table notebook</a>'\n",
              "            + ' to learn more about interactive tables.';\n",
              "          element.innerHTML = '';\n",
              "          dataTable['output_type'] = 'display_data';\n",
              "          await google.colab.output.renderOutput(dataTable, element);\n",
              "          const docLink = document.createElement('div');\n",
              "          docLink.innerHTML = docLinkHtml;\n",
              "          element.appendChild(docLink);\n",
              "        }\n",
              "      </script>\n",
              "    </div>\n",
              "  </div>\n",
              "  "
            ]
          },
          "metadata": {},
          "execution_count": 22
        }
      ]
    },
    {
      "cell_type": "markdown",
      "source": [
        "#5 QUESTION\n",
        "Describe the relationship between the following pairs of features using a suitable graph\n",
        "##a) Followers and Total Likes\n",
        "##b) Followers and Influence Score\n",
        "##c) Posts and Average likes\n",
        "##d) Posts and Influence Score"
      ],
      "metadata": {
        "id": "D6guUYxW0_xY"
      }
    },
    {
      "cell_type": "code",
      "source": [
        "# Followers and Total Likes\n",
        "\n",
        "plt.scatter(df['Followers'],df['Total Likes'])\n",
        "plt.xlabel('Followers')\n",
        "plt.ylabel('Total Likes')\n",
        "plt.title('Relationship between Followers & Total likes')\n",
        "plt.show()\n",
        "\n"
      ],
      "metadata": {
        "colab": {
          "base_uri": "https://localhost:8080/",
          "height": 295
        },
        "id": "RBtZ4bSicIVd",
        "outputId": "42a784b5-f9c3-4328-8d16-577b993ce80d"
      },
      "execution_count": 29,
      "outputs": [
        {
          "output_type": "display_data",
          "data": {
            "text/plain": [
              "<Figure size 432x288 with 1 Axes>"
            ],
            "image/png": "[encoded data removed]"
          },
          "metadata": {
            "needs_background": "light"
          }
        }
      ]
    },
    {
      "cell_type": "code",
      "source": [
        "# Followers and Influence Score\n",
        "\n",
        "plt.scatter(df['Followers'],df['Influence Score'])\n",
        "plt.xlabel('Followers')\n",
        "plt.ylabel('Influence Score')\n",
        "plt.title('Relationship between Followers & Influence Score')\n",
        "plt.show()\n"
      ],
      "metadata": {
        "colab": {
          "base_uri": "https://localhost:8080/",
          "height": 295
        },
        "id": "dbXVEarGcIMy",
        "outputId": "197bbbe6-0b8a-46ad-ca80-17d911c07316"
      },
      "execution_count": 30,
      "outputs": [
        {
          "output_type": "display_data",
          "data": {
            "text/plain": [
              "<Figure size 432x288 with 1 Axes>"
            ],
            "image/png": "[encoded data removed]"
          },
          "metadata": {
            "needs_background": "light"
          }
        }
      ]
    },
    {
      "cell_type": "code",
      "source": [
        "# Posts and Average likes\n",
        "\n",
        "plt.scatter(df['Posts'], df['Avg. Likes'])\n",
        "plt.xlabel('Posts')\n",
        "plt.ylabel('Avg. Likes')\n",
        "plt.title('Relationship between Post & Average likes')\n",
        "plt.show()"
      ],
      "metadata": {
        "colab": {
          "base_uri": "https://localhost:8080/",
          "height": 295
        },
        "id": "yv17oED9cIF0",
        "outputId": "b5dcc452-c2ff-42a3-a856-43905c9dcc3f"
      },
      "execution_count": 31,
      "outputs": [
        {
          "output_type": "display_data",
          "data": {
            "text/plain": [
              "<Figure size 432x288 with 1 Axes>"
            ],
            "image/png": "[encoded data removed]"
          },
          "metadata": {
            "needs_background": "light"
          }
        }
      ]
    },
    {
      "cell_type": "code",
      "source": [
        "# Posts and Influence Score\n",
        "plt.scatter(df['Posts'], df['Influence Score'])\n",
        "plt.xlabel('Posts')\n",
        "plt.ylabel('Influence Score')\n",
        "plt.title('Relationship between Post & Influence Score')\n",
        "plt.show()"
      ],
      "metadata": {
        "colab": {
          "base_uri": "https://localhost:8080/",
          "height": 295
        },
        "id": "_v_ZVqcbcH_S",
        "outputId": "54b6a7fe-4730-497d-8837-c24634a83b15"
      },
      "execution_count": 32,
      "outputs": [
        {
          "output_type": "display_data",
          "data": {
            "text/plain": [
              "<Figure size 432x288 with 1 Axes>"
            ],
            "image/png": "[encoded data removed]"
          },
          "metadata": {
            "needs_background": "light"
          }
        }
      ]
    },
    {
      "cell_type": "code",
      "source": [
        "from scipy.stats import spearmanr\n",
        "\n",
        "# Define the pairs of column names to compute the Spearman correlation coefficient\n",
        "data = [[\"Followers\",\"Total Likes\"],[\"Followers\", \"Influence Score\"],[\"Posts\",\"Avg. Likes\"],[\"Posts\",\"Influence Score\"]]\n",
        "\n",
        "# Loop through the pairs of column names and compute the Spearman correlation coefficient and p-value\n",
        "for pair in data:\n",
        "    col1 = pair[0]\n",
        "    col2 = pair[1]\n",
        "    corr_coef, p_value = spearmanr(df[col1], df[col2])\n",
        "    \n",
        "    # Print the correlation coefficient and p-value\n",
        "    print('The Spearman correlation coefficient between', col1, 'and', col2, 'is:', corr_coef)\n",
        "    print('The p-value is:', p_value)\n",
        "    \n",
        "    # Check the strength of the correlation based on the p-value\n",
        "    if p_value < 0.05:\n",
        "        if corr_coef >= 0.7:\n",
        "            print('There is a strong positive correlation.')\n",
        "        elif 0.3 <= corr_coef < 0.7:\n",
        "            print('There is a moderate positive correlation.')\n",
        "        elif -0.3 <= corr_coef < 0.3:\n",
        "            print('There is a weak or no correlation.')\n",
        "        elif -0.7 <= corr_coef < -0.3:\n",
        "            print('There is a moderate negative correlation.')\n",
        "        else:\n",
        "            print('There is a strong negative correlation.')\n",
        "    else:\n",
        "        print('There is no statistically significant correlation.')\n",
        "    print()  # Print an empty line to separate the output for different pairs of column names"
      ],
      "metadata": {
        "colab": {
          "base_uri": "https://localhost:8080/"
        },
        "id": "UgQFiNbGcH4M",
        "outputId": "b97006bf-d9b4-45f5-a127-22cfb231cf0b"
      },
      "execution_count": 33,
      "outputs": [
        {
          "output_type": "stream",
          "name": "stdout",
          "text": [
            "The Spearman correlation coefficient between Followers and Total Likes is: 0.5663597563788829\n",
            "The p-value is: 2.3204465229540027e-18\n",
            "There is a moderate positive correlation.\n",
            "\n",
            "The Spearman correlation coefficient between Followers and Influence Score is: 0.5733527535176081\n",
            "The p-value is: 7.127215769707509e-19\n",
            "There is a moderate positive correlation.\n",
            "\n",
            "The Spearman correlation coefficient between Posts and Avg. Likes is: -0.5147784223679804\n",
            "The p-value is: 6.284083921562635e-15\n",
            "There is a moderate negative correlation.\n",
            "\n",
            "The Spearman correlation coefficient between Posts and Influence Score is: 0.1648098301943469\n",
            "The p-value is: 0.019694163337771287\n",
            "There is a weak or no correlation.\n",
            "\n"
          ]
        }
      ]
    },
    {
      "cell_type": "code",
      "source": [],
      "metadata": {
        "id": "iM4rkLJ9cHtF"
      },
      "execution_count": null,
      "outputs": []
    },
    {
      "cell_type": "code",
      "source": [],
      "metadata": {
        "id": "_hKF5p2kcHmC"
      },
      "execution_count": null,
      "outputs": []
    },
    {
      "cell_type": "code",
      "source": [],
      "metadata": {
        "id": "VqFaqcuvcHet"
      },
      "execution_count": null,
      "outputs": []
    },
    {
      "cell_type": "code",
      "source": [],
      "metadata": {
        "id": "6Uw4z9hScHVx"
      },
      "execution_count": null,
      "outputs": []
    }
  ]
}